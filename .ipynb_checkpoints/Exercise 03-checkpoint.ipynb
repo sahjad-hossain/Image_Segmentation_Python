{
 "cells": [
  {
   "cell_type": "code",
   "execution_count": null,
   "metadata": {},
   "outputs": [],
   "source": [
    "\n",
    "import numpy as np\n",
    "from IPython.display import display, clear_output\n",
    "import ipywidgets as widgets\n",
    "from ipywidgets import interact, interact_manual, IntSlider, FloatSlider\n",
    "import matplotlib.pyplot as plt\n",
    "from matplotlib.colors import hsv_to_rgb\n",
    "from matplotlib.patches import Rectangle\n",
    "from PIL import Image\n",
    "import time\n",
    "import warnings\n",
    "from time import sleep\n",
    "warnings.filterwarnings('ignore')\n",
    "%matplotlib notebook"
   ]
  },
  {
   "cell_type": "code",
   "execution_count": null,
   "metadata": {},
   "outputs": [],
   "source": [
    "lego = np.array(Image.open('resources/lego.png'), dtype=np.uint8)"
   ]
  },
  {
   "cell_type": "markdown",
   "metadata": {},
   "source": [
    "## Pixel based Segmentation"
   ]
  },
  {
   "cell_type": "markdown",
   "metadata": {
    "heading_collapsed": true
   },
   "source": [
    "### Manual Threshold Segmentation\n",
    "\n",
    "For the first task, you have to implement a method to distinguish between foreground and background by defining manually a threshold value. In other words, all values under a certain threshold become 0 and everything else to 1. Use matplotlib to plot the source image, the binary mask, and the segmented source image. Your segmented image should be white at the positions where the binary mask is 0. \n",
    "\n",
    "![](resources/manual-threshold.png)\n",
    "\n",
    "**Hints**\n",
    "- You can easily create binary masks with conditions in numpy, for instance: `mask = A < threshold`\n",
    "- The resulting mask can be used for indexing, for instance: `A[mask]`\n",
    "- Don't forget to copy the original numpy array (image), otherwise it could happen that you change it"
   ]
  },
  {
   "cell_type": "markdown",
   "metadata": {
    "heading_collapsed": true,
    "hidden": true
   },
   "source": [
    "#### Solution"
   ]
  },
  {
   "cell_type": "code",
   "execution_count": null,
   "metadata": {
    "hidden": true
   },
   "outputs": [],
   "source": [
    "def mask_image(threshold, gray, title=\"\"):\n",
    "    # add code for masking\n",
    "    mask = gray # replace gray with your implementation\n",
    "    masked_gray = gray # replace gray your implementation\n",
    "    \n",
    "    \n",
    "    fig = plt.figure(figsize=(6,6))\n",
    "    plt.suptitle(title)\n",
    "    plt.subplot(221)\n",
    "    plt.imshow(gray, cmap='gray', vmin=0, vmax=255)\n",
    "    plt.subplot(222)\n",
    "    plt.imshow(mask)\n",
    "    plt.subplot(212)\n",
    "    plt.imshow(masked_gray, cmap='gray', vmin=0, vmax=255)\n",
    "    plt.tight_layout()\n",
    "    plt.show()"
   ]
  },
  {
   "cell_type": "markdown",
   "metadata": {
    "heading_collapsed": true,
    "hidden": true
   },
   "source": [
    "#### Visualization"
   ]
  },
  {
   "cell_type": "code",
   "execution_count": null,
   "metadata": {
    "hidden": true,
    "scrolled": false
   },
   "outputs": [],
   "source": [
    "@interact(threshold=IntSlider(min=0, max=255, value=0, step=1, continuous_update=False))\n",
    "def run(threshold):\n",
    "    mask_image(threshold, lego, 'Manual Threshold of {}'.format(threshold))"
   ]
  },
  {
   "cell_type": "markdown",
   "metadata": {
    "heading_collapsed": true
   },
   "source": [
    "### Threshold Segmentation using Otu's Method\n",
    "\n",
    "Finding the right threshold is difficult and should not be a trial and error procedure. For this task, you have to implement Otsu's method to find an optimal threshold value T. \n",
    "\n",
    "1. You need a normalized histogram for the image you want to segment and based on this values you have to calculate the cumulative histogram.  \n",
    "2. Determine the mean of the entire image\n",
    "3. Calculate the cumulative mean value for all intensities\n",
    "4. Iterate over the K intensities from 1 to 254, exclude 0 and 255\n",
    "    1. determine the cumulative propability of k\n",
    "    2. determine the cumulative mean of k\n",
    "    3. calcualte the between-class variance $\\sigma_{B}^2$ of k\n",
    "    4. set T to k if $max(\\sigma_{B}^2)$\n",
    "5. return threshold T\n",
    "\n",
    "![](resources/otso-threshold.png)"
   ]
  },
  {
   "cell_type": "markdown",
   "metadata": {
    "heading_collapsed": true,
    "hidden": true
   },
   "source": [
    "#### Solution"
   ]
  },
  {
   "cell_type": "code",
   "execution_count": null,
   "metadata": {
    "hidden": true
   },
   "outputs": [],
   "source": [
    "def threshold_by_otsu(gray):\n",
    "    # enter code\n",
    "    return 42 "
   ]
  },
  {
   "cell_type": "markdown",
   "metadata": {
    "heading_collapsed": true,
    "hidden": true
   },
   "source": [
    "#### Visualization"
   ]
  },
  {
   "cell_type": "code",
   "execution_count": null,
   "metadata": {
    "hidden": true
   },
   "outputs": [],
   "source": [
    "threshold = threshold_by_otsu(lego)\n",
    "mask_image(threshold, lego, 'Otsu Threshold of {}'.format(threshold))"
   ]
  },
  {
   "cell_type": "markdown",
   "metadata": {},
   "source": [
    "## Template Matching"
   ]
  },
  {
   "cell_type": "markdown",
   "metadata": {
    "heading_collapsed": true
   },
   "source": [
    "### Normalized Cross-Correlation\n",
    "\n",
    "The idea of template matching is to find a specific template/patch in a reference image. For this task, you have to implement a template matching algorithm based on the *normalized cross-correlation*.\n",
    "Given is the reference image `coins` and the template `template` with the dimensions 50x50 pixels.\n",
    "\n",
    "**Steps:**\n",
    "1. create a padded (add 50 px to width and 50 px to height) copy of coins (np.pad) \n",
    "2. iterate over the image\n",
    "3. extract a 50x50 patch from the reference image\n",
    "4. calculate the normalized cross correlation of the template and the patch at point P\n",
    "5. save point P where the normalized cross correlation is the maximum\n",
    "6. plot the results, draw a rectangle at point P with the shape of the template\n",
    "\n",
    "You can draw a rectangle using matplotlib:\n",
    "```python\n",
    "ax = plt.subplot(221)\n",
    "ax.add_patch(Rectangle((start_x, start_y), width, height,linewidth=1, edgecolor='r',facecolor='none'))\n",
    "plt.imshow(...)\n",
    "```\n",
    "\n",
    "\n",
    "![](resources/template-matching.png)"
   ]
  },
  {
   "cell_type": "code",
   "execution_count": null,
   "metadata": {
    "hidden": true
   },
   "outputs": [],
   "source": [
    "coins = np.array(Image.open('resources/coins.jpg').convert('L'), dtype=np.uint8)\n",
    "template = coins[360:410,400:450]"
   ]
  },
  {
   "cell_type": "markdown",
   "metadata": {
    "hidden": true
   },
   "source": [
    "#### Solution"
   ]
  },
  {
   "cell_type": "code",
   "execution_count": null,
   "metadata": {
    "hidden": true
   },
   "outputs": [],
   "source": [
    "def find_template(image, template):\n",
    "    # add code to find template      \n",
    "    \n",
    "    # correlation is the image containing the caluclated cross corellation\n",
    "    # match_pos is a point at which position the maximum cross corellation is\n",
    "    return correlation, match_pos"
   ]
  },
  {
   "cell_type": "markdown",
   "metadata": {
    "hidden": true
   },
   "source": [
    "#### Visualization"
   ]
  },
  {
   "cell_type": "code",
   "execution_count": null,
   "metadata": {
    "hidden": true
   },
   "outputs": [],
   "source": [
    "correlation, match_pos = find_template(coins, template)\n",
    "\n",
    "fig = plt.figure(figsize=(10,10))\n",
    "plt.suptitle(\"Template Matching\")\n",
    "plt.subplot(221)\n",
    "plt.title('Image')\n",
    "plt.imshow(coins, cmap='gray', vmin=0, vmax=255)\n",
    "plt.subplot(222)\n",
    "plt.title('Template')\n",
    "plt.imshow(template, cmap='gray', vmin=0, vmax=255)\n",
    "ax3 = plt.subplot(223)\n",
    "plt.title('Normalized Cross Correlation')\n",
    "ax3.add_patch(Rectangle((match_pos[1], match_pos[0]), template.shape[1], template.shape[0],linewidth=1, edgecolor='r',facecolor='none'))\n",
    "plt.imshow(correlation)\n",
    "ax4 = plt.subplot(224)\n",
    "plt.title('Match Result')\n",
    "plt.imshow(coins, cmap='gray')\n",
    "ax4.add_patch(Rectangle((match_pos[1], match_pos[0]), template.shape[1], template.shape[0],linewidth=1, edgecolor='r',facecolor='none'))\n",
    "plt.tight_layout()\n",
    "plt.show()"
   ]
  },
  {
   "cell_type": "code",
   "execution_count": null,
   "metadata": {
    "hidden": true
   },
   "outputs": [],
   "source": []
  },
  {
   "cell_type": "markdown",
   "metadata": {},
   "source": [
    "## Canny Edge Detection (optional)"
   ]
  },
  {
   "cell_type": "markdown",
   "metadata": {
    "heading_collapsed": true
   },
   "source": [
    "### Canny Edge Operator\n",
    "\n",
    "In this task you have can try to implement the Canny edge operator.\n",
    "\n",
    "![](resources/edge-filter.png)"
   ]
  },
  {
   "cell_type": "code",
   "execution_count": null,
   "metadata": {
    "hidden": true,
    "scrolled": true
   },
   "outputs": [],
   "source": [
    "coins = np.array(Image.open('resources/coins.jpg').convert('L'), dtype=np.uint8)"
   ]
  },
  {
   "cell_type": "markdown",
   "metadata": {
    "heading_collapsed": true,
    "hidden": true
   },
   "source": [
    "#### Solution "
   ]
  },
  {
   "cell_type": "markdown",
   "metadata": {
    "heading_collapsed": true,
    "hidden": true
   },
   "source": [
    "#### Visualization "
   ]
  },
  {
   "cell_type": "code",
   "execution_count": 2,
   "metadata": {
    "hidden": true
   },
   "outputs": [
    {
     "ename": "NameError",
     "evalue": "name 'interact' is not defined",
     "output_type": "error",
     "traceback": [
      "\u001b[0;31m---------------------------------------------------------------------------\u001b[0m",
      "\u001b[0;31mNameError\u001b[0m                                 Traceback (most recent call last)",
      "\u001b[0;32m<ipython-input-2-3036bc7b85aa>\u001b[0m in \u001b[0;36m<module>\u001b[0;34m\u001b[0m\n\u001b[0;32m----> 1\u001b[0;31m @interact(\n\u001b[0m\u001b[1;32m      2\u001b[0m     \u001b[0mt_min\u001b[0m\u001b[0;34m=\u001b[0m\u001b[0mFloatSlider\u001b[0m\u001b[0;34m(\u001b[0m\u001b[0mmin\u001b[0m\u001b[0;34m=\u001b[0m\u001b[0;36m0\u001b[0m\u001b[0;34m,\u001b[0m \u001b[0mmax\u001b[0m\u001b[0;34m=\u001b[0m\u001b[0;36m100\u001b[0m\u001b[0;34m,\u001b[0m \u001b[0mvalue\u001b[0m\u001b[0;34m=\u001b[0m\u001b[0;36m2.5\u001b[0m\u001b[0;34m,\u001b[0m \u001b[0mstep\u001b[0m\u001b[0;34m=\u001b[0m\u001b[0;36m.5\u001b[0m\u001b[0;34m,\u001b[0m \u001b[0mcontinuous_update\u001b[0m\u001b[0;34m=\u001b[0m\u001b[0;32mFalse\u001b[0m\u001b[0;34m)\u001b[0m\u001b[0;34m,\u001b[0m\u001b[0;34m\u001b[0m\u001b[0;34m\u001b[0m\u001b[0m\n\u001b[1;32m      3\u001b[0m     \u001b[0mt_max\u001b[0m\u001b[0;34m=\u001b[0m\u001b[0mFloatSlider\u001b[0m\u001b[0;34m(\u001b[0m\u001b[0mmin\u001b[0m\u001b[0;34m=\u001b[0m\u001b[0;36m0\u001b[0m\u001b[0;34m,\u001b[0m \u001b[0mmax\u001b[0m\u001b[0;34m=\u001b[0m\u001b[0;36m100\u001b[0m\u001b[0;34m,\u001b[0m \u001b[0mvalue\u001b[0m\u001b[0;34m=\u001b[0m\u001b[0;36m10.0\u001b[0m\u001b[0;34m,\u001b[0m \u001b[0mstep\u001b[0m\u001b[0;34m=\u001b[0m\u001b[0;36m.5\u001b[0m\u001b[0;34m,\u001b[0m \u001b[0mcontinuous_update\u001b[0m\u001b[0;34m=\u001b[0m\u001b[0;32mFalse\u001b[0m\u001b[0;34m)\u001b[0m\u001b[0;34m\u001b[0m\u001b[0;34m\u001b[0m\u001b[0m\n\u001b[1;32m      4\u001b[0m )\n\u001b[1;32m      5\u001b[0m \u001b[0;32mdef\u001b[0m \u001b[0mrun\u001b[0m\u001b[0;34m(\u001b[0m\u001b[0mt_min\u001b[0m\u001b[0;34m,\u001b[0m \u001b[0mt_max\u001b[0m\u001b[0;34m)\u001b[0m\u001b[0;34m:\u001b[0m\u001b[0;34m\u001b[0m\u001b[0;34m\u001b[0m\u001b[0m\n",
      "\u001b[0;31mNameError\u001b[0m: name 'interact' is not defined"
     ]
    }
   ],
   "source": [
    "@interact(\n",
    "    t_min=FloatSlider(min=0, max=100, value=2.5, step=.5, continuous_update=False),\n",
    "    t_max=FloatSlider(min=0, max=100, value=10.0, step=.5, continuous_update=False)\n",
    ")\n",
    "def run(t_min, t_max):\n",
    "    plt.figure(figsize=(9,9))\n",
    "    plt.subplot(321)\n",
    "    plt.title(\"$G_x$\")\n",
    "    # imshow gx\n",
    "    plt.subplot(322)\n",
    "    plt.title(\"$G_y$\")\n",
    "    # imshow gy\n",
    "    plt.subplot(312)\n",
    "    plt.title(\"$\\sqrt{G_x^2 + G_y^2}$\")\n",
    "    # imshow magnitude\n",
    "    plt.subplot(325)\n",
    "    plt.title(\"NMS\")\n",
    "    # imshow magnitude after nms\n",
    "    plt.subplot(326)\n",
    "    plt.title(\"Double Filtered\")\n",
    "    # imshow final filtered image\n",
    "    plt.tight_layout()"
   ]
  },
  {
   "cell_type": "code",
   "execution_count": null,
   "metadata": {
    "hidden": true
   },
   "outputs": [],
   "source": []
  }
 ],
 "metadata": {
  "kernelspec": {
   "display_name": "Python 3",
   "language": "python",
   "name": "python3"
  },
  "language_info": {
   "codemirror_mode": {
    "name": "ipython",
    "version": 3
   },
   "file_extension": ".py",
   "mimetype": "text/x-python",
   "name": "python",
   "nbconvert_exporter": "python",
   "pygments_lexer": "ipython3",
   "version": "3.8.5"
  },
  "toc": {
   "base_numbering": 1,
   "nav_menu": {},
   "number_sections": true,
   "sideBar": true,
   "skip_h1_title": false,
   "title_cell": "Table of Contents",
   "title_sidebar": "Contents",
   "toc_cell": false,
   "toc_position": {},
   "toc_section_display": true,
   "toc_window_display": false
  }
 },
 "nbformat": 4,
 "nbformat_minor": 2
}
